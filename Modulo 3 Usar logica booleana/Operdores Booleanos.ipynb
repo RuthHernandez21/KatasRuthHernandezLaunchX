{
 "cells": [
  {
   "cell_type": "markdown",
   "metadata": {},
   "source": [
    "Ejercicios Logica Booleana"
   ]
  },
  {
   "cell_type": "markdown",
   "metadata": {},
   "source": [
    "Ejercicio 1 Asteroide "
   ]
  },
  {
   "cell_type": "code",
   "execution_count": null,
   "metadata": {},
   "outputs": [],
   "source": [
    "asteroide=49\n",
    "if asteroide > 25:\n",
    " print('¡Amenaza de asteroide, favor de evacuar!')\n",
    "else:\n",
    "     print('No se han encontrado amenzas')\n"
   ]
  },
  {
   "cell_type": "markdown",
   "metadata": {},
   "source": [
    "Ejercicio 2: Asteroide en la tierra"
   ]
  },
  {
   "cell_type": "code",
   "execution_count": 2,
   "metadata": {},
   "outputs": [
    {
     "name": "stdout",
     "output_type": "stream",
     "text": [
      "Cielo despejado\n"
     ]
    }
   ],
   "source": [
    "asteroide = 19\n",
    "\n",
    "if asteroide > 20:\n",
    " print('Un meteorito ha pasado por la atmosfera')\n",
    " \n",
    "elif asteroide==20:\n",
    "    print('Un meteorito ha pasado por la atmosfera')\n",
    "else:\n",
    " print ('Cielo despejado')\n"
   ]
  },
  {
   "cell_type": "markdown",
   "metadata": {},
   "source": [
    "Ejercicio 3: Asteroide Velocidad "
   ]
  },
  {
   "cell_type": "code",
   "execution_count": 3,
   "metadata": {},
   "outputs": [
    {
     "name": "stdout",
     "output_type": "stream",
     "text": [
      "Nada que ver\n"
     ]
    }
   ],
   "source": [
    "asteoride_velocidad =25\n",
    "asteroide_dimension=40\n",
    "\n",
    "if asteoride_velocidad > 25 and asteroide_dimension> 25:\n",
    " print ('¡Peligro de asteoride, evacuar la ciudad!')\n",
    " \n",
    "elif asteoride_velocidad<=20:\n",
    "    print ('Se puede observar un asteoroide sobre la atmosfera terrestre')\n",
    "elif asteroide_dimension<=25:\n",
    "    print ('Nada que ver')\n",
    "else:\n",
    "    print ('Nada que ver')\n"
   ]
  }
 ],
 "metadata": {
  "interpreter": {
   "hash": "56618169e4858c9d77a623e8212b7e4559ab46978a24ba2fa2d100b2e6441082"
  },
  "kernelspec": {
   "display_name": "Python 3.10.2 64-bit",
   "language": "python",
   "name": "python3"
  },
  "language_info": {
   "codemirror_mode": {
    "name": "ipython",
    "version": 3
   },
   "file_extension": ".py",
   "mimetype": "text/x-python",
   "name": "python",
   "nbconvert_exporter": "python",
   "pygments_lexer": "ipython3",
   "version": "3.9.10"
  },
  "orig_nbformat": 4
 },
 "nbformat": 4,
 "nbformat_minor": 2
}
