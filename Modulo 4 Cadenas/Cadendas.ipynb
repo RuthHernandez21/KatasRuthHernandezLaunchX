{
 "cells": [
  {
   "cell_type": "markdown",
   "metadata": {},
   "source": [
    "Ejercios: Cadenas"
   ]
  },
  {
   "cell_type": "markdown",
   "metadata": {},
   "source": [
    "Ejercicio 1: Transformar cadenas."
   ]
  },
  {
   "cell_type": "code",
   "execution_count": 1,
   "metadata": {},
   "outputs": [
    {
     "name": "stdout",
     "output_type": "stream",
     "text": [
      "\n",
      "On average, the Moon moves 4cm away from the Earth every year\n",
      "\n",
      "On average, the Moon moves 4cm away from the Earth every year\n"
     ]
    }
   ],
   "source": [
    "text=\"\"\"Interesting facts about the Moon. The Moon is Earth's only satellite. There are several interesting facts about the Moon and how it affects life here on Earth. \n",
    "On average, the Moon moves 4cm away from the Earth every year. This yearly drift is not significant enough to cause immediate effects on Earth. The highest dayligh\"\"\"\n",
    "\n",
    "text_parts=text.split('. ')\n",
    "text_parts\n",
    "palabras_clave=[\"average\",\"temperature\",\"distance\"]\n",
    "\n",
    "for sentence in text_parts:\n",
    "    for palabra_clave in palabras_clave:\n",
    "        if palabra_clave in sentence:\n",
    "            print(sentence)\n",
    "            break\n",
    "\n",
    "for sentence in text_parts:\n",
    "    for palabra_clave in palabras_clave:\n",
    "        if palabra_clave in sentence:\n",
    "            print(sentence.replace('C', 'Celsius'))\n",
    "            break\n",
    "        "
   ]
  },
  {
   "cell_type": "markdown",
   "metadata": {},
   "source": [
    "Ejercicio 2: Formato Cadenas."
   ]
  },
  {
   "cell_type": "code",
   "execution_count": 2,
   "metadata": {},
   "outputs": [
    {
     "name": "stdout",
     "output_type": "stream",
     "text": [
      "-------------------------------------------------------------------------------- \n",
      "Nombre del planeta:Marte\n",
      "Graverdad en Ganimedes:1.4300000000000002m/s2\n",
      "\n",
      "Datos de Gravedad sobre: Ganimedes\n",
      "-------------------------------------------------------------------------------\n",
      "Nombre del planeta: Marte\n",
      "Gravedad en Ganimedes: 0.00143 m/s2\n",
      "\n",
      "\n",
      "Datos de Gravedad sobre: Ganimedes\n",
      "-------------------------------------------------------------------------------\n",
      "Nombre del planeta: Marte\n",
      "Gravedad en Ganimedes: 1.4300000000000002 m/s2\n",
      "\n"
     ]
    }
   ],
   "source": [
    "planeta='Marte'\n",
    "gravedad= 0.00143\n",
    "nombre='Ganimedes'\n",
    "title=f'Datos de gravedad sobre{nombre}'\n",
    "hechos=f\"\"\"{'-'*80} \n",
    "Nombre del planeta:{planeta}\n",
    "Graverdad en {nombre}:{gravedad *1000}m/s2\"\"\"\n",
    "\n",
    "template =f\"\"\"{title.title()}\n",
    "{hechos}\"\"\"\n",
    "print (hechos)\n",
    "\n",
    "new_template = \"\"\"\n",
    "Datos de Gravedad sobre: {nombre}\n",
    "-------------------------------------------------------------------------------\n",
    "Nombre del planeta: {planeta}\n",
    "Gravedad en {nombre}: {gravedad} m/s2\n",
    "\"\"\"\n",
    "print(new_template.format(nombre=nombre, planeta=planeta, gravedad=gravedad))\n",
    "print(new_template.format(nombre=nombre, planeta=planeta, gravedad=gravedad*1000))"
   ]
  }
 ],
 "metadata": {
  "interpreter": {
   "hash": "56618169e4858c9d77a623e8212b7e4559ab46978a24ba2fa2d100b2e6441082"
  },
  "kernelspec": {
   "display_name": "Python 3.10.2 64-bit",
   "language": "python",
   "name": "python3"
  },
  "language_info": {
   "codemirror_mode": {
    "name": "ipython",
    "version": 3
   },
   "file_extension": ".py",
   "mimetype": "text/x-python",
   "name": "python",
   "nbconvert_exporter": "python",
   "pygments_lexer": "ipython3",
   "version": "3.9.10"
  },
  "orig_nbformat": 4
 },
 "nbformat": 4,
 "nbformat_minor": 2
}
