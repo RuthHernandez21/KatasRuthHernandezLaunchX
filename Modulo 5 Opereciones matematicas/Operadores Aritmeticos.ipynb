{
 "cells": [
  {
   "cell_type": "markdown",
   "metadata": {},
   "source": [
    "Modulo 5: Operaciones matematicas"
   ]
  },
  {
   "cell_type": "code",
   "execution_count": 1,
   "metadata": {},
   "outputs": [
    {
     "name": "stdout",
     "output_type": "stream",
     "text": [
      "La distancia entre Jupiter y la tierra es de: 628949330 kilometros\n",
      "La distancia entre Jupiter y la tierra es de: 390577533.93 millas\n"
     ]
    }
   ],
   "source": [
    "tierra=149597870\n",
    "jupiter=778547200\n",
    "\n",
    "distancia_enkm= jupiter-tierra\n",
    "print('La distancia entre Jupiter y la tierra es de:', distancia_enkm, str('kilometros'))\n",
    "distancia_enmillas= distancia_enkm*0.621\n",
    "print('La distancia entre Jupiter y la tierra es de:', distancia_enmillas, str('millas'))\n"
   ]
  },
  {
   "cell_type": "markdown",
   "metadata": {},
   "source": [
    "Ejercicio 2: Distancia entre planetas.\n",
    "\n",
    "Planeta\tDistancia al sol\n",
    "Mercurio 57900000\n",
    "Venus\t108200000\n",
    "Tierra\t149600000\n",
    "Marte\t227900000\n",
    "Júpiter\t778600000\n",
    "Saturno\t1433500000\n",
    "Urano\t2872500000\n",
    "Neptuno\t4495100000"
   ]
  },
  {
   "cell_type": "code",
   "execution_count": null,
   "metadata": {},
   "outputs": [],
   "source": [
    "primer_planeta=input('Introduzca la distancia del primer planeta con la del sol en Km')\n",
    "segundo_planeta=input('Introduzca la distancia del segundo  planeta con la del sol en Km')\n",
    "\n",
    "distancia_km=int (segundo_planeta) - int(primer_planeta)\n",
    "print('La distancia entre el primer y el segundo planeta es:',distancia_km,'km')\n",
    "\n",
    "distancia_mi=distancia_km*0.621\n",
    "print('La distancia entre el primer y el segundo planeta es:',abs(distancia_mi),'millas')"
   ]
  }
 ],
 "metadata": {
  "interpreter": {
   "hash": "56618169e4858c9d77a623e8212b7e4559ab46978a24ba2fa2d100b2e6441082"
  },
  "kernelspec": {
   "display_name": "Python 3.10.2 64-bit",
   "language": "python",
   "name": "python3"
  },
  "language_info": {
   "codemirror_mode": {
    "name": "ipython",
    "version": 3
   },
   "file_extension": ".py",
   "mimetype": "text/x-python",
   "name": "python",
   "nbconvert_exporter": "python",
   "pygments_lexer": "ipython3",
   "version": "3.9.10"
  },
  "orig_nbformat": 4
 },
 "nbformat": 4,
 "nbformat_minor": 2
}
