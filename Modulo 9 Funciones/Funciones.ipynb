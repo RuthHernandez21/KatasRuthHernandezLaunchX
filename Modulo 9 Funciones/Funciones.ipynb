{
 "cells": [
  {
   "cell_type": "markdown",
   "metadata": {},
   "source": [
    "Modulo 9: Funciones"
   ]
  },
  {
   "cell_type": "markdown",
   "metadata": {},
   "source": [
    "Ejercicio 1"
   ]
  },
  {
   "cell_type": "code",
   "execution_count": 15,
   "metadata": {},
   "outputs": [
    {
     "name": "stdout",
     "output_type": "stream",
     "text": [
      "Informe de tanques\n",
      "----------------------------------------\n",
      "    Promedio Total : 41.666666666666664 %\n",
      "    Tanque1: 30 %\n",
      "    Tanque2: 50 %\n",
      "    Tanque3: 45 %\n",
      "    \n",
      "Funcion promedio 66.66666666666667\n",
      "Informe de tanques Acutalizado\n",
      "----------------------------------------\n",
      "    Promedio Total : 46.666666666666664 %\n",
      "    Tanque1: 65 %\n",
      "    Tanque2: 45 %\n",
      "    Tanque3: 30 %\n",
      "    \n"
     ]
    }
   ],
   "source": [
    "title=f'Informe de tanques'\n",
    "def informe_tanques(Tanque1, Tanque2, Tanque3):\n",
    "    promedio_total =(Tanque1+Tanque2+Tanque3) / 3\n",
    "\n",
    "    return f\"\"\"{'-'*40}\n",
    "    Promedio Total : {promedio_total} %\n",
    "    Tanque1: {Tanque1} %\n",
    "    Tanque2: {Tanque2} %\n",
    "    Tanque3: {Tanque3} %\n",
    "    \"\"\"\n",
    "print (title)\n",
    "print (informe_tanques(30,50,45))\n",
    "\n",
    "\n",
    "def promedio (values):\n",
    "    total=sum(values)\n",
    "    num_tanques=len(values)\n",
    "    return total/num_tanques\n",
    "print('Funcion promedio', promedio([50,60,90]))\n",
    "\n",
    "print(f'Informe de tanque Acutalizado')\n",
    "def informe_actualizado(Tanque1,Tanque2, Tanque3):\n",
    "\n",
    "    return f\"\"\"{'-'*40}\n",
    "    Promedio Total : {promedio({Tanque1,Tanque2,Tanque3})} %\n",
    "    Tanque1: {Tanque1} %\n",
    "    Tanque2: {Tanque2} %\n",
    "    Tanque3 : {Tanque3} %\n",
    "    \"\"\"\n",
    "print(informe_actualizado(65,45,30))\n",
    "\n"
   ]
  },
  {
   "cell_type": "markdown",
   "metadata": {},
   "source": [
    "Ejercicio 2"
   ]
  },
  {
   "cell_type": "code",
   "execution_count": 10,
   "metadata": {},
   "outputs": [
    {
     "name": "stdout",
     "output_type": "stream",
     "text": [
      "Informe de la mision\n",
      " ---------------------------------------------\n",
      "    Tiempo total de viaje:  55 minutos\n",
      "    Combustible total: 8000 litros\n",
      "    Destino: Marte\n",
      "    \n",
      "Informe de mision 2\n",
      " ---------------------------------------------\n",
      "    Mision: Jupiter\n",
      "    Tiempo total de vuelo: 60 minutos\n",
      "    Combustible disponible: 10500 litros\n",
      "    \n",
      "Informe de la mision 3\n",
      "---------------------------------------------\n",
      "    Destino: Venus\n",
      "    Tiempo total de vuelo: 95 minutos\n",
      "    Combustible disponible: 115000\n",
      "    primer Tanque: 15000 \n",
      "segundo Tanque: 100000 \n",
      "\n"
     ]
    }
   ],
   "source": [
    "title=f'Informe de la mision'\n",
    "def informe_mision(prelanzamiento,tiempovuelo,destino,tanque_ext,tanque_inter):\n",
    "    return f\"\"\" {'-'*45}\n",
    "    Tiempo total de viaje:  {prelanzamiento+tiempovuelo} minutos\n",
    "    Combustible total: {tanque_ext+tanque_inter} litros\n",
    "    Destino: {destino}\n",
    "    \"\"\"\n",
    "print(title)\n",
    "print(informe_mision(10,45,\"Marte\",3000,5000))\n",
    "\n",
    "\n",
    "title2=f\"Informe de mision 2\"\n",
    "def informe_mision2(destino2,*tiempo,**combustible):\n",
    "    return f\"\"\" {'-'*45}\n",
    "    Mision: {destino2}\n",
    "    Tiempo total de vuelo: {sum(tiempo)} minutos\n",
    "    Combustible disponible: {sum(combustible.values())} litros\n",
    "    \"\"\"\n",
    "print(title2)\n",
    "print(informe_mision2(\"Jupiter\",15,45,tanque_prin=6000,tanque_reserva=4500))\n",
    "\n",
    "title3=f\"Informe de la mision 3\"\n",
    "def informe_mision3(destin, *minutos, **combustible):\n",
    "    reporte = f\"\"\"{'-'*45}\n",
    "    Destino: {destin}\n",
    "    Tiempo total de vuelo: {sum(minutos)} minutos\n",
    "    Combustible disponible: {sum(combustible.values())}\n",
    "    \"\"\"\n",
    "    for tanques, gas in combustible.items():\n",
    "        reporte += f\"{tanques} Tanque: {gas} \\n\"\n",
    "    return reporte\n",
    "print(title3)\n",
    "print(informe_mision3(\"Venus\", 5, 35, 55, primer=15000,  segundo=100000))\n"
   ]
  }
 ],
 "metadata": {
  "interpreter": {
   "hash": "56618169e4858c9d77a623e8212b7e4559ab46978a24ba2fa2d100b2e6441082"
  },
  "kernelspec": {
   "display_name": "Python 3.10.2 64-bit",
   "language": "python",
   "name": "python3"
  },
  "language_info": {
   "codemirror_mode": {
    "name": "ipython",
    "version": 3
   },
   "file_extension": ".py",
   "mimetype": "text/x-python",
   "name": "python",
   "nbconvert_exporter": "python",
   "pygments_lexer": "ipython3",
   "version": "3.10.2"
  },
  "orig_nbformat": 4
 },
 "nbformat": 4,
 "nbformat_minor": 2
}
